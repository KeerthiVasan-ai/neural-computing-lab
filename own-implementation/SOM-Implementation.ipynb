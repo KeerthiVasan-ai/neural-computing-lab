{
 "cells": [
  {
   "cell_type": "code",
   "execution_count": 43,
   "metadata": {},
   "outputs": [],
   "source": [
    "import numpy as np"
   ]
  },
  {
   "cell_type": "code",
   "execution_count": 44,
   "metadata": {},
   "outputs": [
    {
     "data": {
      "text/plain": [
       "(4, 4)"
      ]
     },
     "execution_count": 44,
     "metadata": {},
     "output_type": "execute_result"
    }
   ],
   "source": [
    "X = np.array([\n",
    "    [0,0,1,1],\n",
    "    [1,0,0,0],\n",
    "    [0,1,1,0],\n",
    "    [0,0,0,1]\n",
    "])\n",
    "\n",
    "X.shape"
   ]
  },
  {
   "cell_type": "code",
   "execution_count": 45,
   "metadata": {},
   "outputs": [
    {
     "data": {
      "text/plain": [
       "(4, 2)"
      ]
     },
     "execution_count": 45,
     "metadata": {},
     "output_type": "execute_result"
    }
   ],
   "source": [
    "# Initialize weights and Bias\n",
    "\n",
    "features = X.shape[1]\n",
    "cluster = 2\n",
    "\n",
    "alpha = 0.5\n",
    "  \n",
    "\n",
    "w = np.array([\n",
    "    [0.2,0.9],\n",
    "    [0.4,0.7],\n",
    "    [0.6,0.5],\n",
    "    [0.8,0.3]\n",
    "])\n",
    "\n",
    "w.shape"
   ]
  },
  {
   "cell_type": "code",
   "execution_count": 48,
   "metadata": {},
   "outputs": [],
   "source": [
    "class SOM:\n",
    "\n",
    "    def winner_vector(self,X,w):\n",
    "        for i in X:\n",
    "            D0 = 0\n",
    "            D1 = 0\n",
    "            # i = [0,1,2,3]\n",
    "            for j in range(features):\n",
    "                # j = [0,1,2,3]\n",
    "                D0 += (w[j][0] - i[j]) ** 2\n",
    "                D1 += (w[j][1] - i[j]) ** 2\n",
    "\n",
    "            print(f\"Distance \\n D0:{D0},D1:{D1}\")\n",
    "\n",
    "            if (D0 < D1):\n",
    "                winner = 0\n",
    "                self.update_weights(i,w,winner)\n",
    "            else:\n",
    "                winner = 1\n",
    "                self.update_weights(i,w,winner)\n",
    "\n",
    "            print(\"Winner :\",winner)\n",
    "\n",
    "            \n",
    "    def update_weights(self,X,w,winner):\n",
    "        for i in range(len(X)):\n",
    "            w[i][winner] = w[i][winner] + (alpha * (X[i] - w[i][winner]))\n",
    "\n",
    "\n",
    "    def test(self,test_vector,w):\n",
    "        for i in test_vector:\n",
    "            D0 = 0\n",
    "            D1 = 0\n",
    "            # i = [0,1,2,3]\n",
    "            for j in range(features):\n",
    "                # j = [0,1,2,3]\n",
    "                D0 += (w[j][0] - i[j]) ** 2\n",
    "                D1 += (w[j][1] - i[j]) ** 2\n",
    "\n",
    "            if (D0 < D1):\n",
    "                return 0\n",
    "            else:\n",
    "                return 1"
   ]
  },
  {
   "cell_type": "code",
   "execution_count": 49,
   "metadata": {},
   "outputs": [
    {
     "name": "stdout",
     "output_type": "stream",
     "text": [
      "Epoch 0\n",
      "Distance \n",
      " D0:0.4000000000000001,D1:2.04\n",
      "Winner : 0\n",
      "Distance \n",
      " D0:2.3000000000000003,D1:0.84\n",
      "Winner : 1\n",
      "Distance \n",
      " D0:1.5000000000000002,D1:1.91\n",
      "Winner : 0\n",
      "Distance \n",
      " D0:1.475,D1:1.8099999999999998\n",
      "Winner : 0\n",
      "Epoch 1\n",
      "Distance \n",
      " D0:0.46875,D1:2.3099999999999996\n",
      "Winner : 0\n",
      "Distance \n",
      " D0:2.2671875000000004,D1:0.21\n",
      "Winner : 1\n",
      "Distance \n",
      " D0:1.5421874999999998,D1:2.4025\n",
      "Winner : 0\n",
      "Distance \n",
      " D0:1.3980468750000001,D1:1.8525\n",
      "Winner : 0\n",
      "Epoch 2\n",
      "Distance \n",
      " D0:0.48701171874999993,D1:2.6025\n",
      "Winner : 0\n",
      "Distance \n",
      " D0:2.2655029296875,D1:0.0525\n",
      "Winner : 1\n",
      "Distance \n",
      " D0:1.5498779296874998,D1:2.688125\n",
      "Winner : 0\n",
      "Distance \n",
      " D0:1.3890319824218746,D1:1.9131250000000002\n",
      "Winner : 0\n"
     ]
    }
   ],
   "source": [
    "epochs = 3\n",
    "som = SOM()\n",
    "\n",
    "for i in range(epochs):\n",
    "    print(\"Epoch\",i)\n",
    "    som.winner_vector(X,w)\n",
    "    "
   ]
  },
  {
   "cell_type": "code",
   "execution_count": 51,
   "metadata": {},
   "outputs": [
    {
     "name": "stdout",
     "output_type": "stream",
     "text": [
      "Result: 1\n"
     ]
    }
   ],
   "source": [
    "test_vector = np.array([\n",
    "    [1,1,0,1]\n",
    "])\n",
    "\n",
    "result = som.test(test_vector,w)\n",
    "\n",
    "print(\"Result:\",result)"
   ]
  },
  {
   "cell_type": "code",
   "execution_count": null,
   "metadata": {},
   "outputs": [],
   "source": []
  }
 ],
 "metadata": {
  "kernelspec": {
   "display_name": "Python 3.9.13 ('base')",
   "language": "python",
   "name": "python3"
  },
  "language_info": {
   "codemirror_mode": {
    "name": "ipython",
    "version": 3
   },
   "file_extension": ".py",
   "mimetype": "text/x-python",
   "name": "python",
   "nbconvert_exporter": "python",
   "pygments_lexer": "ipython3",
   "version": "3.9.13"
  },
  "orig_nbformat": 4,
  "vscode": {
   "interpreter": {
    "hash": "5b30f736e45932896a1a27b0973802247d41f5c6dfddee68ac14f4b5531b8d9e"
   }
  }
 },
 "nbformat": 4,
 "nbformat_minor": 2
}
