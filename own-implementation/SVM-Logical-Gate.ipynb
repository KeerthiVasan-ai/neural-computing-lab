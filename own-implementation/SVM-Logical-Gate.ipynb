{
 "cells": [
  {
   "cell_type": "code",
   "execution_count": 1,
   "metadata": {},
   "outputs": [],
   "source": [
    "import numpy as np\n",
    "from matplotlib import pyplot as plt\n",
    "\n",
    "from sklearn.datasets import make_blobs"
   ]
  },
  {
   "cell_type": "code",
   "execution_count": 2,
   "metadata": {},
   "outputs": [
    {
     "name": "stdout",
     "output_type": "stream",
     "text": [
      "(4, 2)\n"
     ]
    }
   ],
   "source": [
    "X = np.array([\n",
    "    [-1,-1],\n",
    "    [-1,1],\n",
    "    [1,-1],\n",
    "    [1,1]\n",
    "])\n",
    "\n",
    "print(X.shape)\n",
    "\n",
    "y = np.array([-1,1,1,1])\n",
    "\n",
    "b = 0.5"
   ]
  },
  {
   "cell_type": "code",
   "execution_count": 14,
   "metadata": {},
   "outputs": [
    {
     "name": "stdout",
     "output_type": "stream",
     "text": [
      "1\n",
      "[[9. 1. 1. 1. 1. 9. 1. 1. 1. 1. 9. 1. 1. 1. 1. 9.]]\n"
     ]
    }
   ],
   "source": [
    "x = np.array([[]])\n",
    "for i in X:\n",
    "    kernal = np.power((np.dot(i.reshape(1,-1),X.T)+1),2)\n",
    "    x = np.concatenate((x,kernal),axis=1)"
   ]
  },
  {
   "cell_type": "code",
   "execution_count": 4,
   "metadata": {},
   "outputs": [
    {
     "name": "stdout",
     "output_type": "stream",
     "text": [
      "[[-0.5]\n",
      " [ 0.5]\n",
      " [ 0.5]\n",
      " [ 0.5]]\n"
     ]
    },
    {
     "data": {
      "text/plain": [
       "(4, 1)"
      ]
     },
     "execution_count": 4,
     "metadata": {},
     "output_type": "execute_result"
    }
   ],
   "source": [
    "B = np.dot(b,y.reshape(-1,1))\n",
    "print(B)\n",
    "\n",
    "B.shape"
   ]
  },
  {
   "cell_type": "code",
   "execution_count": 5,
   "metadata": {},
   "outputs": [
    {
     "name": "stdout",
     "output_type": "stream",
     "text": [
      "[[ 0.11458333 -0.01041667 -0.01041667 -0.01041667]\n",
      " [-0.01041667  0.11458333 -0.01041667 -0.01041667]\n",
      " [-0.01041667 -0.01041667  0.11458333 -0.01041667]\n",
      " [-0.01041667 -0.01041667 -0.01041667  0.11458333]]\n"
     ]
    },
    {
     "data": {
      "text/plain": [
       "(4, 4)"
      ]
     },
     "execution_count": 5,
     "metadata": {},
     "output_type": "execute_result"
    }
   ],
   "source": [
    "x_inv = np.linalg.inv(x.reshape(-1,len(X)))\n",
    "print(x_inv)\n",
    "x_inv.shape"
   ]
  },
  {
   "cell_type": "code",
   "execution_count": 6,
   "metadata": {},
   "outputs": [
    {
     "name": "stdout",
     "output_type": "stream",
     "text": [
      "[[-0.07291667]\n",
      " [ 0.05208333]\n",
      " [ 0.05208333]\n",
      " [ 0.05208333]]\n"
     ]
    },
    {
     "data": {
      "text/plain": [
       "(4, 1)"
      ]
     },
     "execution_count": 6,
     "metadata": {},
     "output_type": "execute_result"
    }
   ],
   "source": [
    "W = np.dot(x_inv,B)\n",
    "print(W)\n",
    "W.shape"
   ]
  },
  {
   "cell_type": "code",
   "execution_count": 16,
   "metadata": {},
   "outputs": [],
   "source": [
    "def prediction(X):\n",
    "    return np.dot(W.T , x.reshape(-1,len(X))).reshape(-1,1)+B"
   ]
  },
  {
   "cell_type": "code",
   "execution_count": 17,
   "metadata": {},
   "outputs": [
    {
     "name": "stdout",
     "output_type": "stream",
     "text": [
      "Accuracy:100.00%\n"
     ]
    }
   ],
   "source": [
    "line = prediction(X)\n",
    "\n",
    "correct = 0\n",
    "wrong = 0\n",
    "\n",
    "for i in range(len(line)):\n",
    "    if line[i] < 0:\n",
    "        line[i] = -1\n",
    "    else:\n",
    "        line[i] = 1\n",
    "\n",
    "    if line[i] == y[i]:\n",
    "        correct += 1\n",
    "    else:\n",
    "        wrong += 1\n",
    "\n",
    "print(f\"Accuracy:{correct/len(X)*100:.2f}%\")"
   ]
  },
  {
   "cell_type": "code",
   "execution_count": null,
   "metadata": {},
   "outputs": [],
   "source": []
  }
 ],
 "metadata": {
  "kernelspec": {
   "display_name": "Python 3.9.13 ('base')",
   "language": "python",
   "name": "python3"
  },
  "language_info": {
   "codemirror_mode": {
    "name": "ipython",
    "version": 3
   },
   "file_extension": ".py",
   "mimetype": "text/x-python",
   "name": "python",
   "nbconvert_exporter": "python",
   "pygments_lexer": "ipython3",
   "version": "3.9.13"
  },
  "orig_nbformat": 4,
  "vscode": {
   "interpreter": {
    "hash": "5b30f736e45932896a1a27b0973802247d41f5c6dfddee68ac14f4b5531b8d9e"
   }
  }
 },
 "nbformat": 4,
 "nbformat_minor": 2
}
