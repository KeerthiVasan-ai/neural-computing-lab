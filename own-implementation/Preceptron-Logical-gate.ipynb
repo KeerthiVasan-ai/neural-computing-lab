{
 "cells": [
  {
   "cell_type": "code",
   "execution_count": 1,
   "metadata": {},
   "outputs": [],
   "source": [
    "import numpy as np\n",
    "from matplotlib import pyplot as plt"
   ]
  },
  {
   "cell_type": "code",
   "execution_count": 2,
   "metadata": {},
   "outputs": [],
   "source": [
    "x = np.array([[1,1],\n",
    "     [1,-1],\n",
    "     [-1,1],\n",
    "     [-1,-1]])\n",
    "\n",
    "y = np.array([1,-1,-1,-1])"
   ]
  },
  {
   "cell_type": "code",
   "execution_count": 3,
   "metadata": {},
   "outputs": [
    {
     "name": "stdout",
     "output_type": "stream",
     "text": [
      "[[ 1  1]\n",
      " [ 1 -1]\n",
      " [-1  1]\n",
      " [-1 -1]] [ 1 -1 -1 -1]\n"
     ]
    }
   ],
   "source": [
    "print(x,y)"
   ]
  },
  {
   "cell_type": "code",
   "execution_count": 4,
   "metadata": {},
   "outputs": [
    {
     "data": {
      "image/png": "[encoded data removed]",
      "text/plain": [
       "<Figure size 1000x800 with 1 Axes>"
      ]
     },
     "metadata": {},
     "output_type": "display_data"
    }
   ],
   "source": [
    "plt.figure(figsize=(10,8))\n",
    "plt.plot(x[:,0][y==1],x[:,1][y==1],'r^')\n",
    "plt.plot(x[:,0][y==-1],x[:,1][y==-1],'bs')\n",
    "plt.title(\"Bipolar AND Gate\")\n",
    "plt.show()"
   ]
  },
  {
   "cell_type": "code",
   "execution_count": 5,
   "metadata": {},
   "outputs": [],
   "source": [
    "def result(x1,x2,t,initial_weight1,initial_weight2,bias,estimated_output,predicted_output,updated_weight1=0,updated_weight2=0,updated_bias=0):\n",
    "        print(f\"| {x1} | {x2} | {t} | {initial_weight1} | {initial_weight2} | {bias} | {estimated_output} | {predicted_output} | {updated_weight1} | {updated_weight2} | {updated_bias} |\")"
   ]
  },
  {
   "cell_type": "code",
   "execution_count": 6,
   "metadata": {},
   "outputs": [],
   "source": [
    "def activation_func(estimated_output):\n",
    "    if(estimated_output > 0):\n",
    "        return 1\n",
    "    elif(estimated_output == 0):\n",
    "        return 0\n",
    "    else:\n",
    "        return -1"
   ]
  },
  {
   "cell_type": "code",
   "execution_count": 7,
   "metadata": {},
   "outputs": [],
   "source": [
    "def preceptron(x,epochs):\n",
    "\n",
    "    initial_weight1 = initial_weight2 = bias = 0\n",
    "    upd_weight1 = upd_weight2 = upd_bias = 0\n",
    "    estimated_output = 0\n",
    "    learning_rate = 1\n",
    "\n",
    "    for epoch in range(epochs):\n",
    "\n",
    "        print(f\"Epoch:{epoch+1}\")\n",
    "        \n",
    "        for idx,x_i in enumerate(x):\n",
    "\n",
    "            value_1 = x_i[0] * initial_weight1\n",
    "            value_2 = x_i[1] * initial_weight2\n",
    "\n",
    "            #Finding the summation\n",
    "            estimated_output = (value_1 + value_2) + bias\n",
    "\n",
    "            \n",
    "            #Activation Function\n",
    "            predicted_output = activation_func(estimated_output)\n",
    "\n",
    "            if(y[idx] != predicted_output):\n",
    "                upd_weight1 = initial_weight1 + (learning_rate * y[idx] * x_i[0])\n",
    "                upd_weight2 = initial_weight2 + (learning_rate * y[idx] * x_i[1])\n",
    "                upd_bias = bias + (learning_rate * y[idx])\n",
    "\n",
    "                result(x_i[0],x_i[1],y[idx],initial_weight1,initial_weight2,bias,estimated_output,predicted_output,upd_weight1,upd_weight1,upd_bias)\n",
    "\n",
    "                initial_weight1 = upd_weight1\n",
    "                initial_weight2 = upd_weight2\n",
    "                bias = upd_bias\n",
    "            else:\n",
    "                upd_weight1 = initial_weight1\n",
    "                upd_weight2 = initial_weight2\n",
    "                upd_bias = bias\n",
    "\n",
    "                result(x_i[0],x_i[1],y[idx],initial_weight1,initial_weight2,bias,estimated_output,predicted_output,upd_weight1,upd_weight1,upd_bias)\n",
    "\n",
    "    weights = [upd_weight1,upd_weight2,upd_bias]\n",
    "    print(weights)"
   ]
  },
  {
   "cell_type": "code",
   "execution_count": 8,
   "metadata": {},
   "outputs": [
    {
     "name": "stdout",
     "output_type": "stream",
     "text": [
      "| x1 | x2 | t | w1 | w2 | b | est.op | y_hat | upd.w1 | upd.w2 | upd.b |\n",
      "Epoch:1\n",
      "| 1 | 1 | 1 | 0 | 0 | 0 | 0 | 0 | 1 | 1 | 1 |\n",
      "| 1 | -1 | -1 | 1 | 1 | 1 | 1 | 1 | 0 | 0 | 0 |\n",
      "| -1 | 1 | -1 | 0 | 2 | 0 | 2 | 1 | 1 | 1 | -1 |\n",
      "| -1 | -1 | -1 | 1 | 1 | -1 | -3 | -1 | 1 | 1 | -1 |\n",
      "Epoch:2\n",
      "| 1 | 1 | 1 | 1 | 1 | -1 | 1 | 1 | 1 | 1 | -1 |\n",
      "| 1 | -1 | -1 | 1 | 1 | -1 | -1 | -1 | 1 | 1 | -1 |\n",
      "| -1 | 1 | -1 | 1 | 1 | -1 | -1 | -1 | 1 | 1 | -1 |\n",
      "| -1 | -1 | -1 | 1 | 1 | -1 | -3 | -1 | 1 | 1 | -1 |\n",
      "[1, 1, -1]\n"
     ]
    }
   ],
   "source": [
    "print(f\"| x1 | x2 | t | w1 | w2 | b | est.op | y_hat | upd.w1 | upd.w2 | upd.b |\")\n",
    "preceptron(x,2)"
   ]
  },
  {
   "cell_type": "code",
   "execution_count": null,
   "metadata": {},
   "outputs": [],
   "source": []
  }
 ],
 "metadata": {
  "kernelspec": {
   "display_name": "Python 3.9.13 ('base')",
   "language": "python",
   "name": "python3"
  },
  "language_info": {
   "codemirror_mode": {
    "name": "ipython",
    "version": 3
   },
   "file_extension": ".py",
   "mimetype": "text/x-python",
   "name": "python",
   "nbconvert_exporter": "python",
   "pygments_lexer": "ipython3",
   "version": "3.9.13"
  },
  "orig_nbformat": 4,
  "vscode": {
   "interpreter": {
    "hash": "5b30f736e45932896a1a27b0973802247d41f5c6dfddee68ac14f4b5531b8d9e"
   }
  }
 },
 "nbformat": 4,
 "nbformat_minor": 2
}
