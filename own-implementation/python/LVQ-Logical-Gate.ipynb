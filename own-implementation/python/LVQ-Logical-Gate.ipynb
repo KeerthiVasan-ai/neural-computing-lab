{
 "cells": [
  {
   "cell_type": "markdown",
   "metadata": {},
   "source": [
    "### Importing Libaries"
   ]
  },
  {
   "cell_type": "code",
   "execution_count": 1,
   "metadata": {},
   "outputs": [],
   "source": [
    "import numpy as np"
   ]
  },
  {
   "cell_type": "markdown",
   "metadata": {},
   "source": [
    "### Dataset"
   ]
  },
  {
   "cell_type": "code",
   "execution_count": 2,
   "metadata": {},
   "outputs": [
    {
     "name": "stdout",
     "output_type": "stream",
     "text": [
      "(6, 4) (6,)\n"
     ]
    }
   ],
   "source": [
    "X = np.array([\n",
    "    [0,0,1,1],\n",
    "    [1,0,0,0],\n",
    "    [0,0,0,1],\n",
    "    [0,1,1,0],\n",
    "    [1,1,0,0],\n",
    "    [1,1,1,0]\n",
    "])\n",
    "\n",
    "y = np.array([0,1,0,1,1,1])\n",
    "\n",
    "print(X.shape,y.shape)"
   ]
  },
  {
   "cell_type": "markdown",
   "metadata": {},
   "source": [
    "### Initialize the weights and bias"
   ]
  },
  {
   "cell_type": "code",
   "execution_count": 3,
   "metadata": {},
   "outputs": [
    {
     "data": {
      "text/plain": [
       "array([[0., 1.],\n",
       "       [0., 0.],\n",
       "       [1., 0.],\n",
       "       [1., 0.]])"
      ]
     },
     "execution_count": 3,
     "metadata": {},
     "output_type": "execute_result"
    }
   ],
   "source": [
    "cluster = len(np.unique(y))\n",
    "features = X.shape[1]\n",
    "\n",
    "w = X[:cluster].T\n",
    "w = w.astype(float)\n",
    "\n",
    "X = X[cluster:]\n",
    "y = y[cluster:]\n",
    "\n",
    "alpha = 0.1\n",
    "\n",
    "w"
   ]
  },
  {
   "cell_type": "markdown",
   "metadata": {},
   "source": [
    "### Class Definition"
   ]
  },
  {
   "cell_type": "code",
   "execution_count": 4,
   "metadata": {},
   "outputs": [],
   "source": [
    "class LVQ:\n",
    "\n",
    "    def winner_vector(self,X,w):\n",
    "        count = 0\n",
    "        for i in range(len(X)):\n",
    "            D0 = 0\n",
    "            D1 = 0\n",
    "            for j in range(features):\n",
    "                # j = [0,1,2,3]\n",
    "                D0 += (w[j][0] - X[i][j]) ** 2\n",
    "                D1 += (w[j][1] - X[i][j]) ** 2\n",
    "\n",
    "            print(f\"Distance \\n D0:{D0},D1:{D1}\")\n",
    "\n",
    "            if (D0 < D1):\n",
    "                winner = 0\n",
    "            else:\n",
    "                winner = 1\n",
    "\n",
    "            print(\"Winner :\",winner)\n",
    "\n",
    "            if winner == y[i]:\n",
    "                count += 1\n",
    "                self.update_weight(True,X[i],w,winner)\n",
    "            else:\n",
    "                self.update_weight(False,X[i],w,winner)\n",
    "                \n",
    "        return count\n",
    "\n",
    "            \n",
    "\n",
    "    def update_weight(self,classified,X,w,winner):\n",
    "        if classified:\n",
    "            for i in range(len(X)):\n",
    "                w[i][winner] = w[i][winner] + (alpha * (X[i] - w[i][winner]))\n",
    "        else:\n",
    "            for i in range(len(X)):\n",
    "                w[i][winner] = w[i][winner] - (alpha * (X[i] - w[i][winner]))\n",
    "\n",
    "\n",
    "    def test(self,test_vector,w):\n",
    "        for i in test_vector:\n",
    "            D0 = 0\n",
    "            D1 = 0\n",
    "            for j in range(features):\n",
    "                # j = [0,1,2,3]\n",
    "                D0 += (w[j][0] - i[j]) ** 2\n",
    "                D1 += (w[j][1] - i[j]) ** 2\n",
    "\n",
    "            if (D0 < D1):\n",
    "                return 0\n",
    "            else:\n",
    "                return 1"
   ]
  },
  {
   "cell_type": "markdown",
   "metadata": {},
   "source": [
    "### Fitting the Data"
   ]
  },
  {
   "cell_type": "code",
   "execution_count": 5,
   "metadata": {},
   "outputs": [
    {
     "name": "stdout",
     "output_type": "stream",
     "text": [
      "Epoch 0\n",
      "Distance \n",
      " D0:1.0,D1:2.0\n",
      "Winner : 0\n",
      "Distance \n",
      " D0:2.01,D1:3.0\n",
      "Winner : 0\n",
      "Distance \n",
      " D0:4.2121,D1:1.0\n",
      "Winner : 1\n",
      "Distance \n",
      " D0:3.4321,D1:1.81\n",
      "Winner : 1\n",
      "Epoch 1\n",
      "Distance \n",
      " D0:0.8121,D1:2.0461\n",
      "Winner : 0\n",
      "Distance \n",
      " D0:2.415801,D1:2.4661\n",
      "Winner : 0\n",
      "Distance \n",
      " D0:4.48531921,D1:0.6661000000000001\n",
      "Winner : 1\n",
      "Distance \n",
      " D0:3.9231192100000003,D1:1.359541\n",
      "Winner : 1\n",
      "Epoch 2\n",
      "Distance \n",
      " D0:0.6893192100000001,D1:2.1510282099999998\n",
      "Winner : 0\n",
      "Distance \n",
      " D0:2.8687685601000004,D1:2.1012282099999995\n",
      "Winner : 1\n",
      "Distance \n",
      " D0:4.2747485601,D1:0.42779485009999996\n",
      "Winner : 1\n",
      "Distance \n",
      " D0:3.8687685601,D1:0.8732938285809999\n",
      "Winner : 1\n"
     ]
    }
   ],
   "source": [
    "lvq = LVQ()\n",
    "epochs = 3\n",
    "\n",
    "count = 0\n",
    "\n",
    "for i in range(epochs):\n",
    "    print(\"Epoch\",i)\n",
    "    winner_count = lvq.winner_vector(X,w)"
   ]
  },
  {
   "cell_type": "markdown",
   "metadata": {},
   "source": [
    "### Accuracy"
   ]
  },
  {
   "cell_type": "code",
   "execution_count": 6,
   "metadata": {},
   "outputs": [
    {
     "name": "stdout",
     "output_type": "stream",
     "text": [
      "Accuracy:100.00%\n",
      "[[ 0.         0.919    ]\n",
      " [-0.1791     0.5217031]\n",
      " [ 0.70299    0.312949 ]\n",
      " [ 1.1791     0.       ]]\n"
     ]
    }
   ],
   "source": [
    "print(f\"Accuracy:{winner_count/len(X) * 100:.2f}%\")\n",
    "\n",
    "print(w)"
   ]
  },
  {
   "cell_type": "markdown",
   "metadata": {},
   "source": [
    "### Testing"
   ]
  },
  {
   "cell_type": "code",
   "execution_count": 7,
   "metadata": {},
   "outputs": [
    {
     "name": "stdout",
     "output_type": "stream",
     "text": [
      "0\n"
     ]
    }
   ],
   "source": [
    "X_test = np.array([\n",
    "    [0,0,1,0]\n",
    "])\n",
    "\n",
    "y_pred = lvq.test(X_test,w)\n",
    "print(y_pred)"
   ]
  },
  {
   "cell_type": "code",
   "execution_count": null,
   "metadata": {},
   "outputs": [],
   "source": []
  }
 ],
 "metadata": {
  "kernelspec": {
   "display_name": "Python 3.9.13 ('base')",
   "language": "python",
   "name": "python3"
  },
  "language_info": {
   "codemirror_mode": {
    "name": "ipython",
    "version": 3
   },
   "file_extension": ".py",
   "mimetype": "text/x-python",
   "name": "python",
   "nbconvert_exporter": "python",
   "pygments_lexer": "ipython3",
   "version": "3.9.13"
  },
  "orig_nbformat": 4,
  "vscode": {
   "interpreter": {
    "hash": "5b30f736e45932896a1a27b0973802247d41f5c6dfddee68ac14f4b5531b8d9e"
   }
  }
 },
 "nbformat": 4,
 "nbformat_minor": 2
}
