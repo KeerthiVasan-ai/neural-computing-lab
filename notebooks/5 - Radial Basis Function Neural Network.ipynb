{
 "cells": [
  {
   "cell_type": "code",
   "execution_count": 2,
   "metadata": {},
   "outputs": [],
   "source": [
    "import numpy as np\n",
    "from sklearn.cluster import KMeans\n",
    "from sklearn.datasets import make_blobs\n",
    "from sklearn.model_selection import train_test_split\n",
    "from sklearn.metrics import accuracy_score\n",
    "from scipy.spatial.distance import cdist"
   ]
  },
  {
   "cell_type": "code",
   "execution_count": 4,
   "metadata": {},
   "outputs": [
    {
     "name": "stdout",
     "output_type": "stream",
     "text": [
      "[[ 4.32666527  2.30101801]\n",
      " [ 0.85042544  0.43795261]\n",
      " [-0.33916505  5.1201522 ]\n",
      " [ 0.04409504  2.22395104]\n",
      " [ 3.3026988   1.2304534 ]\n",
      " [ 1.46521564  2.69073146]\n",
      " [ 1.02431652  4.10724428]\n",
      " [ 4.07435665  2.45220419]\n",
      " [ 0.56957692  3.98636944]\n",
      " [ 1.21168737  0.17363639]\n",
      " [ 0.61096232  4.46795375]\n",
      " [ 1.66762659  0.64631552]\n",
      " [ 1.19495881  5.32925832]\n",
      " [ 0.0236068   4.35832999]\n",
      " [ 1.77386398  1.74024288]\n",
      " [ 4.55756954  1.88936712]\n",
      " [ 3.23823524 -0.23626442]\n",
      " [ 0.27018661  3.92625651]\n",
      " [ 0.67356474  0.41299982]\n",
      " [ 1.24685564  1.46387531]\n",
      " [ 1.13896488  4.70085797]\n",
      " [ 0.64913992  4.36276094]\n",
      " [ 1.27872638  2.51782899]\n",
      " [-0.24713725  5.24965514]\n",
      " [ 2.60470801  0.71754001]\n",
      " [ 0.86789028  4.73491575]\n",
      " [ 1.27327496  0.02990319]\n",
      " [ 0.9872951   6.17895135]\n",
      " [ 1.44232647  4.65414537]\n",
      " [ 2.3684176   2.29036885]\n",
      " [ 2.45051433 -0.25670717]\n",
      " [ 1.04611316  4.62138282]\n",
      " [ 0.89566502  0.95243699]\n",
      " [ 2.47107457 -0.25005092]\n",
      " [ 1.59835629  2.83939057]\n",
      " [ 2.21398863  4.11486625]\n",
      " [ 1.34721823  0.93108575]\n",
      " [ 1.98361384  2.69667352]\n",
      " [ 2.1726408   3.00722022]\n",
      " [ 0.48944705  1.35902495]\n",
      " [-0.12471053  2.81276849]\n",
      " [ 2.58568825  5.84661404]\n",
      " [-0.81531362  6.35210149]\n",
      " [ 1.3987288   3.58473673]\n",
      " [ 0.82348795  2.9384659 ]\n",
      " [ 2.23027469  1.56444667]\n",
      " [ 2.01402056 -0.32883451]\n",
      " [ 1.68357391 -0.5460352 ]\n",
      " [-0.73543819  4.7897087 ]\n",
      " [ 0.55293428  5.58735465]\n",
      " [ 1.95189237  0.20101146]\n",
      " [ 0.69776777  1.17806707]\n",
      " [ 2.53893488  6.29447096]\n",
      " [ 1.3504548   5.04568915]\n",
      " [ 3.35951243  2.77670337]\n",
      " [ 1.10952778  4.72587616]\n",
      " [ 2.95357831  2.88864031]\n",
      " [ 1.57695839  0.91601678]\n",
      " [ 3.02216929  1.2323277 ]\n",
      " [ 2.71176055 -0.78449688]\n",
      " [ 1.38762914  1.60791862]\n",
      " [ 1.97386292  4.14486226]\n",
      " [-0.14802017  5.41096164]\n",
      " [ 2.76117702  1.32549859]\n",
      " [ 1.12751583  5.83077451]\n",
      " [ 1.53233345  2.92367232]\n",
      " [ 0.06193307  3.69599518]\n",
      " [ 2.93720597  3.27764555]\n",
      " [ 3.2099101   1.58569058]\n",
      " [ 1.88392809  3.52451406]\n",
      " [ 1.30499117  3.4069868 ]\n",
      " [ 1.62096759  0.11283611]\n",
      " [ 4.01620443  1.84901055]\n",
      " [ 1.74181517  4.43921938]\n",
      " [ 0.12246648  2.4911906 ]\n",
      " [ 0.31023188  3.9229091 ]\n",
      " [ 0.96931254  1.6133379 ]\n",
      " [ 2.70005086  1.86598067]\n",
      " [ 0.44113529  3.84380931]\n",
      " [ 0.94667874  4.75353579]\n",
      " [ 1.15098055  2.90323186]\n",
      " [ 1.16256753  3.88191734]\n",
      " [-0.35773917  5.32165387]\n",
      " [ 1.77535969  4.43154609]\n",
      " [ 0.43992468  3.06412353]\n",
      " [ 0.03603019  4.71003495]\n",
      " [ 3.04988209  0.73490306]\n",
      " [ 2.26807529  5.56628617]\n",
      " [ 1.32597127  0.74054739]\n",
      " [ 2.66068788  0.67894997]\n",
      " [ 2.8656476   1.76234302]\n",
      " [ 2.95493966  0.21408679]\n",
      " [ 1.09680418  2.07053076]\n",
      " [ 1.00504141 -0.72434599]\n",
      " [ 2.54505311  4.08837115]\n",
      " [-1.70436923  4.99008685]\n",
      " [ 1.3794682  -1.43690965]\n",
      " [ 3.05215937  0.98959246]\n",
      " [-0.71832266  4.08041003]\n",
      " [ 0.76856023  1.78424479]] [1 1 0 0 1 0 0 1 0 1 0 1 0 0 1 1 1 0 1 1 0 0 1 0 1 0 1 0 0 1 1 0 1 1 1 0 1\n",
      " 1 0 1 0 0 0 0 1 1 1 1 0 0 1 1 0 0 0 0 0 1 1 1 1 0 0 1 0 1 0 0 1 0 0 1 1 0\n",
      " 0 0 1 1 0 0 1 0 0 0 0 0 1 0 1 1 1 1 1 1 0 0 1 1 0 1]\n"
     ]
    }
   ],
   "source": [
    "# Generate a Synthetic Dataset\n",
    "\n",
    "X,y = make_blobs(n_samples=100,n_features=2,cluster_std=1.05,centers=2,random_state=0)\n",
    "print(X,y)"
   ]
  },
  {
   "cell_type": "code",
   "execution_count": 6,
   "metadata": {},
   "outputs": [],
   "source": [
    "X_train, X_test, y_train, y_test = train_test_split(X,y,test_size=0.2,random_state=0)\n",
    "\n",
    "num_neurons = 10"
   ]
  },
  {
   "cell_type": "code",
   "execution_count": 7,
   "metadata": {},
   "outputs": [
    {
     "name": "stderr",
     "output_type": "stream",
     "text": [
      "C:\\Users\\GF LAB\\anaconda3\\lib\\site-packages\\sklearn\\cluster\\_kmeans.py:870: FutureWarning: The default value of `n_init` will change from 10 to 'auto' in 1.4. Set the value of `n_init` explicitly to suppress the warning\n",
      "  warnings.warn(\n",
      "C:\\Users\\GF LAB\\anaconda3\\lib\\site-packages\\sklearn\\cluster\\_kmeans.py:1382: UserWarning: KMeans is known to have a memory leak on Windows with MKL, when there are less chunks than available threads. You can avoid it by setting the environment variable OMP_NUM_THREADS=1.\n",
      "  warnings.warn(\n"
     ]
    }
   ],
   "source": [
    "kmeans = KMeans(n_clusters=num_neurons,random_state=0)\n",
    "kmeans.fit(X_train)\n",
    "centers = kmeans.cluster_centers_"
   ]
  },
  {
   "cell_type": "code",
   "execution_count": 10,
   "metadata": {},
   "outputs": [],
   "source": [
    "std_dev = np.mean(cdist(centers,centers,\"euclidean\")) / np.sqrt(2 * num_neurons)"
   ]
  },
  {
   "cell_type": "code",
   "execution_count": 11,
   "metadata": {},
   "outputs": [],
   "source": [
    "def rbf_activation(X,centers,std_dev):\n",
    "    return np.exp(-cdist(X,centers,'sqeuclidean') / (2*std_dev ** 2))"
   ]
  },
  {
   "cell_type": "code",
   "execution_count": 12,
   "metadata": {},
   "outputs": [],
   "source": [
    "rbf_train = rbf_activation(X_train,centers,std_dev)\n",
    "rbf_test = rbf_activation(X_test,centers,std_dev)"
   ]
  },
  {
   "cell_type": "code",
   "execution_count": 15,
   "metadata": {},
   "outputs": [
    {
     "data": {
      "text/plain": [
       "(20, 12)"
      ]
     },
     "execution_count": 15,
     "metadata": {},
     "output_type": "execute_result"
    }
   ],
   "source": [
    "rbf_train  = np.hstack([rbf_train,np.ones((rbf_train.shape[0],1))])\n",
    "rbf_test = np.hstack([rbf_test,np.ones((rbf_test.shape[0],1))])\n",
    "\n",
    "rbf_test.shape"
   ]
  },
  {
   "cell_type": "code",
   "execution_count": 16,
   "metadata": {},
   "outputs": [
    {
     "data": {
      "text/html": [
       "<style>#sk-container-id-1 {color: black;background-color: white;}#sk-container-id-1 pre{padding: 0;}#sk-container-id-1 div.sk-toggleable {background-color: white;}#sk-container-id-1 label.sk-toggleable__label {cursor: pointer;display: block;width: 100%;margin-bottom: 0;padding: 0.3em;box-sizing: border-box;text-align: center;}#sk-container-id-1 label.sk-toggleable__label-arrow:before {content: \"▸\";float: left;margin-right: 0.25em;color: #696969;}#sk-container-id-1 label.sk-toggleable__label-arrow:hover:before {color: black;}#sk-container-id-1 div.sk-estimator:hover label.sk-toggleable__label-arrow:before {color: black;}#sk-container-id-1 div.sk-toggleable__content {max-height: 0;max-width: 0;overflow: hidden;text-align: left;background-color: #f0f8ff;}#sk-container-id-1 div.sk-toggleable__content pre {margin: 0.2em;color: black;border-radius: 0.25em;background-color: #f0f8ff;}#sk-container-id-1 input.sk-toggleable__control:checked~div.sk-toggleable__content {max-height: 200px;max-width: 100%;overflow: auto;}#sk-container-id-1 input.sk-toggleable__control:checked~label.sk-toggleable__label-arrow:before {content: \"▾\";}#sk-container-id-1 div.sk-estimator input.sk-toggleable__control:checked~label.sk-toggleable__label {background-color: #d4ebff;}#sk-container-id-1 div.sk-label input.sk-toggleable__control:checked~label.sk-toggleable__label {background-color: #d4ebff;}#sk-container-id-1 input.sk-hidden--visually {border: 0;clip: rect(1px 1px 1px 1px);clip: rect(1px, 1px, 1px, 1px);height: 1px;margin: -1px;overflow: hidden;padding: 0;position: absolute;width: 1px;}#sk-container-id-1 div.sk-estimator {font-family: monospace;background-color: #f0f8ff;border: 1px dotted black;border-radius: 0.25em;box-sizing: border-box;margin-bottom: 0.5em;}#sk-container-id-1 div.sk-estimator:hover {background-color: #d4ebff;}#sk-container-id-1 div.sk-parallel-item::after {content: \"\";width: 100%;border-bottom: 1px solid gray;flex-grow: 1;}#sk-container-id-1 div.sk-label:hover label.sk-toggleable__label {background-color: #d4ebff;}#sk-container-id-1 div.sk-serial::before {content: \"\";position: absolute;border-left: 1px solid gray;box-sizing: border-box;top: 0;bottom: 0;left: 50%;z-index: 0;}#sk-container-id-1 div.sk-serial {display: flex;flex-direction: column;align-items: center;background-color: white;padding-right: 0.2em;padding-left: 0.2em;position: relative;}#sk-container-id-1 div.sk-item {position: relative;z-index: 1;}#sk-container-id-1 div.sk-parallel {display: flex;align-items: stretch;justify-content: center;background-color: white;position: relative;}#sk-container-id-1 div.sk-item::before, #sk-container-id-1 div.sk-parallel-item::before {content: \"\";position: absolute;border-left: 1px solid gray;box-sizing: border-box;top: 0;bottom: 0;left: 50%;z-index: -1;}#sk-container-id-1 div.sk-parallel-item {display: flex;flex-direction: column;z-index: 1;position: relative;background-color: white;}#sk-container-id-1 div.sk-parallel-item:first-child::after {align-self: flex-end;width: 50%;}#sk-container-id-1 div.sk-parallel-item:last-child::after {align-self: flex-start;width: 50%;}#sk-container-id-1 div.sk-parallel-item:only-child::after {width: 0;}#sk-container-id-1 div.sk-dashed-wrapped {border: 1px dashed gray;margin: 0 0.4em 0.5em 0.4em;box-sizing: border-box;padding-bottom: 0.4em;background-color: white;}#sk-container-id-1 div.sk-label label {font-family: monospace;font-weight: bold;display: inline-block;line-height: 1.2em;}#sk-container-id-1 div.sk-label-container {text-align: center;}#sk-container-id-1 div.sk-container {/* jupyter's `normalize.less` sets `[hidden] { display: none; }` but bootstrap.min.css set `[hidden] { display: none !important; }` so we also need the `!important` here to be able to override the default hidden behavior on the sphinx rendered scikit-learn.org. See: https://github.com/scikit-learn/scikit-learn/issues/21755 */display: inline-block !important;position: relative;}#sk-container-id-1 div.sk-text-repr-fallback {display: none;}</style><div id=\"sk-container-id-1\" class=\"sk-top-container\"><div class=\"sk-text-repr-fallback\"><pre>LogisticRegression()</pre><b>In a Jupyter environment, please rerun this cell to show the HTML representation or trust the notebook. <br />On GitHub, the HTML representation is unable to render, please try loading this page with nbviewer.org.</b></div><div class=\"sk-container\" hidden><div class=\"sk-item\"><div class=\"sk-estimator sk-toggleable\"><input class=\"sk-toggleable__control sk-hidden--visually\" id=\"sk-estimator-id-1\" type=\"checkbox\" checked><label for=\"sk-estimator-id-1\" class=\"sk-toggleable__label sk-toggleable__label-arrow\">LogisticRegression</label><div class=\"sk-toggleable__content\"><pre>LogisticRegression()</pre></div></div></div></div></div>"
      ],
      "text/plain": [
       "LogisticRegression()"
      ]
     },
     "execution_count": 16,
     "metadata": {},
     "output_type": "execute_result"
    }
   ],
   "source": [
    "from sklearn.linear_model import LogisticRegression\n",
    "\n",
    "LR = LogisticRegression()\n",
    "LR.fit(rbf_train,y_train)"
   ]
  },
  {
   "cell_type": "code",
   "execution_count": 17,
   "metadata": {},
   "outputs": [
    {
     "name": "stdout",
     "output_type": "stream",
     "text": [
      "Accuracy:90.00%\n"
     ]
    }
   ],
   "source": [
    "y_pred = LR.predict(rbf_test)\n",
    "\n",
    "print(f\"Accuracy:{accuracy_score(y_pred,y_test)*100:.2f}%\")"
   ]
  }
 ],
 "metadata": {
  "kernelspec": {
   "display_name": "Python 3 (ipykernel)",
   "language": "python",
   "name": "python3"
  },
  "language_info": {
   "codemirror_mode": {
    "name": "ipython",
    "version": 3
   },
   "file_extension": ".py",
   "mimetype": "text/x-python",
   "name": "python",
   "nbconvert_exporter": "python",
   "pygments_lexer": "ipython3",
   "version": "3.10.9"
  },
  "orig_nbformat": 4
 },
 "nbformat": 4,
 "nbformat_minor": 2
}
