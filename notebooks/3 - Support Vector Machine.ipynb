{
 "cells": [
  {
   "cell_type": "code",
   "execution_count": 10,
   "metadata": {},
   "outputs": [],
   "source": [
    "import numpy as np #Array Processing Package\n",
    "import pandas as pd #\n",
    "from subprocess import check_output\n",
    "from matplotlib import pyplot as plt"
   ]
  },
  {
   "cell_type": "code",
   "execution_count": 11,
   "metadata": {},
   "outputs": [],
   "source": [
    "from sklearn import datasets,svm,metrics\n",
    "from sklearn.svm import SVC"
   ]
  },
  {
   "cell_type": "code",
   "execution_count": 21,
   "metadata": {},
   "outputs": [
    {
     "name": "stdout",
     "output_type": "stream",
     "text": [
      "Digit Dataset Keys\n",
      " dict_keys(['data', 'target', 'frame', 'feature_names', 'target_names', 'images', 'DESCR'])\n",
      "Digit Target Name:\n",
      " [0 1 2 3 4 5 6 7 8 9]\n",
      "Shape of the dataset \n",
      " DataSet : (1797, 64) \n",
      " Target : (1797,)\n",
      "Shape of the images: (1797, 8, 8)\n"
     ]
    }
   ],
   "source": [
    "digits = datasets.load_digits()\n",
    "print('Digit Dataset Keys\\n',format(digits.keys()))\n",
    "print('Digit Target Name:\\n',format(digits.target_names))\n",
    "\n",
    "print(f\"Shape of the dataset \\n DataSet : {format(digits.data.shape)} \\n Target : {format(digits.target.shape)}\")\n",
    "\n",
    "print(\"Shape of the images:\",format(digits.images.shape))"
   ]
  },
  {
   "cell_type": "code",
   "execution_count": 47,
   "metadata": {},
   "outputs": [
    {
     "data": {
      "image/png": "[encoded data removed]",
      "text/plain": [
       "<Figure size 640x480 with 4 Axes>"
      ]
     },
     "metadata": {},
     "output_type": "display_data"
    }
   ],
   "source": [
    "for i in range(0,4):\n",
    "    plt.subplot(2,4,i+1)\n",
    "    plt.axis('off')\n",
    "    imside = int(np.sqrt(digits.data[i].shape[0]))\n",
    "    im1 = np.reshape(digits.data[i],(imside,imside))\n",
    "    plt.imshow(im1,cmap=plt.cm.gray_r,interpolation='nearest')\n",
    "    plt.title(f\"Training : {format(digits.target[i])}\")\n",
    "plt.show()\n"
   ]
  },
  {
   "cell_type": "code",
   "execution_count": 32,
   "metadata": {},
   "outputs": [
    {
     "data": {
      "text/plain": [
       "(1797, 64)"
      ]
     },
     "execution_count": 32,
     "metadata": {},
     "output_type": "execute_result"
    }
   ],
   "source": [
    "n_samples = len(digits.images)\n",
    "data_images = digits.images.reshape((n_samples,-1))\n",
    "data_images.shape"
   ]
  },
  {
   "cell_type": "code",
   "execution_count": 45,
   "metadata": {},
   "outputs": [
    {
     "name": "stdout",
     "output_type": "stream",
     "text": [
      "Shape of the Training data \n",
      " X-Train : (1347, 64) \n",
      " Y-Train : (1347,)\n",
      "Shape of the Testing data \n",
      " X-Test : (450, 64) \n",
      " Y-Test : (450,)\n"
     ]
    }
   ],
   "source": [
    "from sklearn.model_selection import train_test_split\n",
    "x_train,x_test,y_train,y_test = train_test_split(data_images,digits.target)\n",
    "\n",
    "print(f\"Shape of the Training data \\n X-Train : {format(x_train.shape)} \\n Y-Train : {format(y_train.shape)}\")\n",
    "print(f\"Shape of the Testing data \\n X-Test : {format(x_test.shape)} \\n Y-Test : {format(y_test.shape)}\")\n"
   ]
  },
  {
   "cell_type": "code",
   "execution_count": 46,
   "metadata": {},
   "outputs": [
    {
     "name": "stdout",
     "output_type": "stream",
     "text": [
      "Classification report \n",
      "               precision    recall  f1-score   support\n",
      "\n",
      "           0       1.00      1.00      1.00        49\n",
      "           1       0.98      1.00      0.99        44\n",
      "           2       1.00      1.00      1.00        54\n",
      "           3       1.00      1.00      1.00        36\n",
      "           4       1.00      1.00      1.00        44\n",
      "           5       1.00      0.98      0.99        47\n",
      "           6       0.97      1.00      0.99        39\n",
      "           7       1.00      1.00      1.00        37\n",
      "           8       0.98      0.98      0.98        50\n",
      "           9       1.00      0.98      0.99        50\n",
      "\n",
      "    accuracy                           0.99       450\n",
      "   macro avg       0.99      0.99      0.99       450\n",
      "weighted avg       0.99      0.99      0.99       450\n",
      "\n",
      "Confusion Matrics \n",
      " [[49  0  0  0  0  0  0  0  0  0]\n",
      " [ 0 44  0  0  0  0  0  0  0  0]\n",
      " [ 0  0 54  0  0  0  0  0  0  0]\n",
      " [ 0  0  0 36  0  0  0  0  0  0]\n",
      " [ 0  0  0  0 44  0  0  0  0  0]\n",
      " [ 0  0  0  0  0 46  1  0  0  0]\n",
      " [ 0  0  0  0  0  0 39  0  0  0]\n",
      " [ 0  0  0  0  0  0  0 37  0  0]\n",
      " [ 0  1  0  0  0  0  0  0 49  0]\n",
      " [ 0  0  0  0  0  0  0  0  1 49]]\n"
     ]
    }
   ],
   "source": [
    "classifier = svm.SVC(gamma=0.001)\n",
    "classifier.fit(x_train,y_train)\n",
    "\n",
    "y_pred = classifier.predict(x_test)\n",
    "\n",
    "print(\"Classification report \\n\",metrics.classification_report(y_test,y_pred))\n",
    "print(\"Confusion Matrics \\n\",metrics.confusion_matrix(y_test,y_pred))\n"
   ]
  },
  {
   "cell_type": "code",
   "execution_count": null,
   "metadata": {},
   "outputs": [],
   "source": []
  }
 ],
 "metadata": {
  "kernelspec": {
   "display_name": "Python 3 (ipykernel)",
   "language": "python",
   "name": "python3"
  },
  "language_info": {
   "codemirror_mode": {
    "name": "ipython",
    "version": 3
   },
   "file_extension": ".py",
   "mimetype": "text/x-python",
   "name": "python",
   "nbconvert_exporter": "python",
   "pygments_lexer": "ipython3",
   "version": "3.10.9"
  },
  "orig_nbformat": 4
 },
 "nbformat": 4,
 "nbformat_minor": 2
}
