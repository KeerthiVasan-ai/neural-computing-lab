{
 "cells": [
  {
   "cell_type": "code",
   "execution_count": 1,
   "metadata": {},
   "outputs": [],
   "source": [
    "import math\n",
    "from matplotlib import pyplot as plt"
   ]
  },
  {
   "cell_type": "code",
   "execution_count": 2,
   "metadata": {},
   "outputs": [],
   "source": [
    "class SOM:\n",
    "    def winner(self,weights,sample):\n",
    "        D0 = 0\n",
    "        D1 = 0\n",
    "        for i in range(len(sample)):\n",
    "            D0 = D0 + math.pow((sample[i] - weights[0][i]),2)\n",
    "            D1 = D1 + math.pow((sample[i] - weights[1][i]),2)\n",
    "        if D0 < D1:\n",
    "            return 0\n",
    "        else:\n",
    "            return 1\n",
    "            \n",
    "    def update(self,weights,sample,J,alpha):\n",
    "        for i in range(len(sample)):\n",
    "            weights[J][i] = weights[J][i] + alpha*(sample[i] - weights[J][i])\n",
    "        return weights"
   ]
  },
  {
   "cell_type": "code",
   "execution_count": 3,
   "metadata": {},
   "outputs": [],
   "source": [
    "def main():\n",
    "    X = [\n",
    "        [1,1,0,0],\n",
    "        [0,0,0,1],\n",
    "        [1,0,0,0],\n",
    "        [0,0,1,1]\n",
    "    ]\n",
    "    m,n = len(X),len(X[0])  # Rows and columns\n",
    "    weights = [\n",
    "        [0.2,0.6,0.5,0.9],\n",
    "        [0.8,0.4,0.7,0.3]\n",
    "    ]\n",
    "    \n",
    "    som = SOM()\n",
    "    epochs = 3\n",
    "    alpha = 0.5\n",
    "\n",
    "    for i in range(epochs):\n",
    "        for j in range(m):\n",
    "                sample = X[j]\n",
    "                j = som.winner(weights,sample)\n",
    "                weights = som.update(weights,sample,j,alpha)\n",
    "    \n",
    "    s = [[1,1,0,1]]\n",
    "    for i in range(len(s)):\n",
    "        J = som.winner(weights,s[i])\n",
    "        print(\"Test Sample Belongs to cluster:\",J)\n",
    "        print(\"Trained Weights:\",weights)\n",
    "\n",
    "    plot(X,\"red\",1)\n",
    "\n",
    "    plot(s,\"blue\",0.4)"
   ]
  },
  {
   "cell_type": "code",
   "execution_count": 22,
   "metadata": {},
   "outputs": [],
   "source": [
    "def plot(X,color,alpha):\n",
    "    plt.subplot(121)\n",
    "    for i in X:\n",
    "        for j in range(len(i[0:2])):\n",
    "            plt.scatter(i[j],i[j+1],c=color,alpha=alpha)\n",
    "            plt.xlabel(\"feature 1\")\n",
    "            plt.ylabel(\"feature 2\")\n",
    "            break\n",
    "\n",
    "    plt.subplot(122)\n",
    "    for i in X:\n",
    "        for j in range(len(i[2:4])):\n",
    "            plt.scatter(i[j],i[j+1],c=color,alpha=alpha)\n",
    "            plt.xlabel(\"feature 3\")\n",
    "            plt.ylabel(\"feature 4\")\n",
    "            break\n",
    "\n",
    "    plt.tight_layout()"
   ]
  },
  {
   "cell_type": "code",
   "execution_count": 23,
   "metadata": {},
   "outputs": [
    {
     "name": "stdout",
     "output_type": "stream",
     "text": [
      "Test Sample Belongs to cluster: 1\n",
      "Trained Weights: [[0.003125, 0.009375, 0.6640625, 0.9984375], [0.996875, 0.334375, 0.0109375, 0.0046875]]\n"
     ]
    },
    {
     "data": {
      "image/png": "[encoded data removed]",
      "text/plain": [
       "<Figure size 640x480 with 2 Axes>"
      ]
     },
     "metadata": {},
     "output_type": "display_data"
    }
   ],
   "source": [
    "if __name__ == \"__main__\":\n",
    "    main()"
   ]
  },
  {
   "cell_type": "code",
   "execution_count": null,
   "metadata": {},
   "outputs": [],
   "source": [
    "\n",
    "\n"
   ]
  },
  {
   "cell_type": "code",
   "execution_count": null,
   "metadata": {},
   "outputs": [],
   "source": []
  }
 ],
 "metadata": {
  "kernelspec": {
   "display_name": "Python 3 (ipykernel)",
   "language": "python",
   "name": "python3"
  },
  "language_info": {
   "codemirror_mode": {
    "name": "ipython",
    "version": 3
   },
   "file_extension": ".py",
   "mimetype": "text/x-python",
   "name": "python",
   "nbconvert_exporter": "python",
   "pygments_lexer": "ipython3",
   "version": "3.10.9"
  },
  "orig_nbformat": 4
 },
 "nbformat": 4,
 "nbformat_minor": 2
}
