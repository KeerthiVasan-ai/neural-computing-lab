{
 "cells": [
  {
   "cell_type": "code",
   "execution_count": 11,
   "metadata": {},
   "outputs": [],
   "source": [
    "import math"
   ]
  },
  {
   "cell_type": "code",
   "execution_count": 12,
   "metadata": {},
   "outputs": [],
   "source": [
    "class SOM:\n",
    "    def __init__(self):\n",
    "        self.D0 = 0\n",
    "        self.D1 = 0\n",
    "\n",
    "    def winner(self,weights,sample):\n",
    "        for i in range(len(sample)):\n",
    "            self.D0 = self.D0 + math.pow((sample[i] - weights[0][i]),2)\n",
    "            self.D1 = self.D1 + math.pow((sample[i] - weights[1][i]),2)\n",
    "            if self.D0 > self.D1:\n",
    "                return 0\n",
    "            else:\n",
    "                return 1\n",
    "            \n",
    "    def update(self,weights,sample,J,alpha):\n",
    "        for i in range(len(weights)):\n",
    "            weights[J][i] = weights[J][i] * alpha*(sample[i] - weights[J][i])\n",
    "        return weights"
   ]
  },
  {
   "cell_type": "code",
   "execution_count": 13,
   "metadata": {},
   "outputs": [],
   "source": [
    "def main():\n",
    "        X = [\n",
    "            [1,1,0,0],\n",
    "            [0,0,0,1]\n",
    "        ]\n",
    "        m,n = len(X),len(X[0])  # Rows and columns\n",
    "        weights = [\n",
    "            [0.2,0.6,0.5,0.9],\n",
    "            [0.8,0.4,0.7,0.3]\n",
    "        ]\n",
    "        \n",
    "        som = SOM()\n",
    "        epochs = 3\n",
    "        alpha = 0.5\n",
    "\n",
    "        for i in range(epochs):\n",
    "            for j in range(m):\n",
    "                  sample = X[j]\n",
    "                  j = som.winner(weights,sample)\n",
    "                  weights = som.update(weights,sample,j,alpha)\n",
    "        \n",
    "        s = [1,1,0,1]\n",
    "        J = som.winner(weights,s)\n",
    "        print(\"Test Sample Belongs to cluster:\",J)\n",
    "        print(\"Trained Weights:\",weights)"
   ]
  },
  {
   "cell_type": "code",
   "execution_count": 14,
   "metadata": {},
   "outputs": [
    {
     "name": "stdout",
     "output_type": "stream",
     "text": [
      "Test Sample Belongs to cluster: 1\n",
      "Trained Weights: [[0.08000000000000002, 0.12, 0.5, 0.9], [-6.498074852272657e-05, -1.0904233148096369e-07, 0.7, 0.3]]\n"
     ]
    }
   ],
   "source": [
    "if __name__ == \"__main__\":\n",
    "    main()"
   ]
  },
  {
   "cell_type": "code",
   "execution_count": null,
   "metadata": {},
   "outputs": [],
   "source": []
  }
 ],
 "metadata": {
  "kernelspec": {
   "display_name": "Python 3 (ipykernel)",
   "language": "python",
   "name": "python3"
  },
  "language_info": {
   "codemirror_mode": {
    "name": "ipython",
    "version": 3
   },
   "file_extension": ".py",
   "mimetype": "text/x-python",
   "name": "python",
   "nbconvert_exporter": "python",
   "pygments_lexer": "ipython3",
   "version": "3.10.9"
  },
  "orig_nbformat": 4
 },
 "nbformat": 4,
 "nbformat_minor": 2
}
